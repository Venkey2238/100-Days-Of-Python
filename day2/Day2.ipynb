{
  "nbformat": 4,
  "nbformat_minor": 0,
  "metadata": {
    "colab": {
      "name": "Day2.ipynb",
      "provenance": [],
      "collapsed_sections": []
    },
    "kernelspec": {
      "name": "python3",
      "display_name": "Python 3"
    },
    "language_info": {
      "name": "python"
    }
  },
  "cells": [
    {
      "cell_type": "markdown",
      "source": [
        "# String Concatenation"
      ],
      "metadata": {
        "id": "-o0pWo5hIABf"
      }
    },
    {
      "cell_type": "code",
      "execution_count": 1,
      "metadata": {
        "colab": {
          "base_uri": "https://localhost:8080/"
        },
        "id": "NcsrrGfiH8RJ",
        "outputId": "c5feb149-2a83-4bc3-b7a6-fbf62f8ac4d7"
      },
      "outputs": [
        {
          "output_type": "stream",
          "name": "stdout",
          "text": [
            "12\n",
            "Hello world\n",
            "<class 'str'>\n",
            "<class 'str'>\n"
          ]
        }
      ],
      "source": [
        "a = \"1\" + \"2\"\n",
        "b = \"Hello \" + \"world\"\n",
        "print(a)\n",
        "print(b)\n",
        "print(type(a))\n",
        "print(type(b))"
      ]
    },
    {
      "cell_type": "markdown",
      "source": [
        "# String repetition"
      ],
      "metadata": {
        "id": "Z7KpHZMCI6em"
      }
    },
    {
      "cell_type": "code",
      "source": [
        "a = \"*\" * 5\n",
        "b = \"Hello \" * 7\n",
        "print(a)\n",
        "print(b)\n",
        "print(type(a))\n",
        "print(type(b))"
      ],
      "metadata": {
        "colab": {
          "base_uri": "https://localhost:8080/"
        },
        "id": "FelHGJvvI14y",
        "outputId": "a7fc3652-c6fe-491e-ab93-1f22e556d533"
      },
      "execution_count": 2,
      "outputs": [
        {
          "output_type": "stream",
          "name": "stdout",
          "text": [
            "*****\n",
            "Hello Hello Hello Hello Hello Hello Hello \n",
            "<class 'str'>\n",
            "<class 'str'>\n"
          ]
        }
      ]
    },
    {
      "cell_type": "markdown",
      "source": [
        "# Length of string"
      ],
      "metadata": {
        "id": "Yix686B8JRuC"
      }
    },
    {
      "cell_type": "code",
      "source": [
        "user_name = \"Ravi\"\n",
        "length = len(user_name)\n",
        "print(length)"
      ],
      "metadata": {
        "colab": {
          "base_uri": "https://localhost:8080/"
        },
        "id": "4pT1I-LtI4nm",
        "outputId": "92adcb6a-55ab-4ec0-d669-023d76629139"
      },
      "execution_count": 3,
      "outputs": [
        {
          "output_type": "stream",
          "name": "stdout",
          "text": [
            "4\n"
          ]
        }
      ]
    },
    {
      "cell_type": "markdown",
      "source": [
        "# Taking input from the user"
      ],
      "metadata": {
        "id": "fdQIM1GAJkuc"
      }
    },
    {
      "cell_type": "code",
      "source": [
        "x = int(input(\"enter first number : \"))\n",
        "y = int(input(\"enter second number : \"))\n",
        "z = x + y\n",
        "print(z)"
      ],
      "metadata": {
        "colab": {
          "base_uri": "https://localhost:8080/"
        },
        "id": "2yxH-LCtJrBX",
        "outputId": "11be7940-7f8c-4169-a5e5-5e80b01f83e8"
      },
      "execution_count": 4,
      "outputs": [
        {
          "output_type": "stream",
          "name": "stdout",
          "text": [
            "enter first number : 10\n",
            "enter second number : 20\n",
            "30\n"
          ]
        }
      ]
    },
    {
      "cell_type": "markdown",
      "source": [
        "# Accessing character in a string"
      ],
      "metadata": {
        "id": "y2NADGsZKAhG"
      }
    },
    {
      "cell_type": "code",
      "source": [
        "user_name = \"Ravi\"\n",
        "print(user_name[0])\n",
        "print(user_name[1])\n",
        "print(user_name[2])\n",
        "print(user_name[3])"
      ],
      "metadata": {
        "colab": {
          "base_uri": "https://localhost:8080/"
        },
        "id": "2KdHU50uKFJU",
        "outputId": "4798c3a2-05bc-41bb-8c8b-ec7fd920bbd5"
      },
      "execution_count": 7,
      "outputs": [
        {
          "output_type": "stream",
          "name": "stdout",
          "text": [
            "R\n",
            "a\n",
            "v\n",
            "i\n"
          ]
        }
      ]
    },
    {
      "cell_type": "markdown",
      "source": [
        "# Program to find all the index numbers of the characters in a string"
      ],
      "metadata": {
        "id": "aLtdLtUoK8Oy"
      }
    },
    {
      "cell_type": "code",
      "source": [
        "user_name = \"Ravi\"\n",
        "for index, char in enumerate(user_name):\n",
        "    print(\"Current character\", char, \"position at\", index )"
      ],
      "metadata": {
        "colab": {
          "base_uri": "https://localhost:8080/"
        },
        "id": "vBfMMPzyKyLA",
        "outputId": "9313d5c5-2886-4e88-e21c-7071e706cabc"
      },
      "execution_count": 8,
      "outputs": [
        {
          "output_type": "stream",
          "name": "stdout",
          "text": [
            "Current character R position at 0\n",
            "Current character a position at 1\n",
            "Current character v position at 2\n",
            "Current character i position at 3\n"
          ]
        }
      ]
    },
    {
      "cell_type": "markdown",
      "source": [
        "# String Slicing"
      ],
      "metadata": {
        "id": "muQjMP3RLOY2"
      }
    },
    {
      "cell_type": "code",
      "source": [
        "user_name = \"Ramesh\"\n",
        "print(user_name[0:3])\n",
        "print(user_name[2:])\n",
        "print(user_name[:3])\n",
        "print(user_name[0:7])\n",
        "print(user_name[-6:])"
      ],
      "metadata": {
        "colab": {
          "base_uri": "https://localhost:8080/"
        },
        "id": "9qwmJ45cLMvO",
        "outputId": "e46ed30d-74b3-4145-98e5-20031b4f5d0c"
      },
      "execution_count": 40,
      "outputs": [
        {
          "output_type": "stream",
          "name": "stdout",
          "text": [
            "Ram\n",
            "mesh\n",
            "Ram\n",
            "Ramesh\n",
            "Ramesh\n"
          ]
        }
      ]
    },
    {
      "cell_type": "markdown",
      "source": [
        "# Type Conversion"
      ],
      "metadata": {
        "id": "QpOlO8A_Vk30"
      }
    },
    {
      "cell_type": "code",
      "source": [
        "a = 5.0\n",
        "print(type(a))\n",
        "a = int(a)\n",
        "print(type(a))"
      ],
      "metadata": {
        "colab": {
          "base_uri": "https://localhost:8080/"
        },
        "id": "c8Hv-9fBVnlN",
        "outputId": "638f3e80-6d8e-4b58-9a5e-3ad1e6380480"
      },
      "execution_count": 36,
      "outputs": [
        {
          "output_type": "stream",
          "name": "stdout",
          "text": [
            "<class 'float'>\n",
            "<class 'int'>\n"
          ]
        }
      ]
    },
    {
      "cell_type": "code",
      "source": [
        "a = input(\"enter a 4 digit number\")\n",
        "c = int(a[0]) + int(a[1]) + int(a[2]) + int(a[3])\n",
        "print(c)"
      ],
      "metadata": {
        "colab": {
          "base_uri": "https://localhost:8080/"
        },
        "id": "z4feeE1TXhHc",
        "outputId": "5570472f-8b6e-4073-dcdd-0d9b03b5eb31"
      },
      "execution_count": 41,
      "outputs": [
        {
          "output_type": "stream",
          "name": "stdout",
          "text": [
            "enter a 4 digit number3456\n",
            "18\n"
          ]
        }
      ]
    }
  ]
}
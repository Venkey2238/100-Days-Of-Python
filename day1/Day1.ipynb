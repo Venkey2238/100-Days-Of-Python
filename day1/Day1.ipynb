{
  "nbformat": 4,
  "nbformat_minor": 0,
  "metadata": {
    "colab": {
      "name": "Day1.ipynb",
      "provenance": [],
      "collapsed_sections": []
    },
    "kernelspec": {
      "name": "python3",
      "display_name": "Python 3"
    },
    "language_info": {
      "name": "python"
    }
  },
  "cells": [
    {
      "cell_type": "markdown",
      "source": [
        "# Python Data types"
      ],
      "metadata": {
        "id": "wb9fhJow6HTW"
      }
    },
    {
      "cell_type": "code",
      "execution_count": 7,
      "metadata": {
        "colab": {
          "base_uri": "https://localhost:8080/"
        },
        "id": "rNR6s-Sn58RA",
        "outputId": "0dc35427-dab1-4ae7-9ef2-c537ddbd6041"
      },
      "outputs": [
        {
          "output_type": "stream",
          "name": "stdout",
          "text": [
            "Hello World\n",
            "Hello\n",
            "<class 'str'>\n",
            "<class 'str'>\n"
          ]
        }
      ],
      "source": [
        "#1 string\n",
        "x = \"Hello World\"\n",
        "y = str(\"Hello\")\n",
        "print(x)\n",
        "print(y)\n",
        "print(type(x))\n",
        "print(type(y))"
      ]
    },
    {
      "cell_type": "code",
      "source": [
        "#2 integer\n",
        "x = 1\n",
        "y = int(10)\n",
        "print(x)\n",
        "print(y)\n",
        "print(type(x))\n",
        "print(type(y))"
      ],
      "metadata": {
        "colab": {
          "base_uri": "https://localhost:8080/"
        },
        "id": "3Q_M1CSv6aCl",
        "outputId": "4ac6f7d7-8a12-41fd-88fc-23fc43042df8"
      },
      "execution_count": 8,
      "outputs": [
        {
          "output_type": "stream",
          "name": "stdout",
          "text": [
            "1\n",
            "10\n",
            "<class 'int'>\n",
            "<class 'int'>\n"
          ]
        }
      ]
    },
    {
      "cell_type": "code",
      "source": [
        "#3 float\n",
        "x = 2.5\n",
        "y = float(4.6)\n",
        "print(x)\n",
        "print(y)\n",
        "print(type(x))\n",
        "print(type(y))"
      ],
      "metadata": {
        "colab": {
          "base_uri": "https://localhost:8080/"
        },
        "id": "khuq8EQH6gI1",
        "outputId": "13c93ac4-be88-4eaf-8dd4-aed26c2034a4"
      },
      "execution_count": 9,
      "outputs": [
        {
          "output_type": "stream",
          "name": "stdout",
          "text": [
            "2.5\n",
            "4.6\n",
            "<class 'float'>\n",
            "<class 'float'>\n"
          ]
        }
      ]
    },
    {
      "cell_type": "code",
      "source": [
        "#4 complex\n",
        "x = 1j\n",
        "y = complex(2j)\n",
        "print(x)\n",
        "print(y)\n",
        "print(type(x))\n",
        "print(type(y))"
      ],
      "metadata": {
        "colab": {
          "base_uri": "https://localhost:8080/"
        },
        "id": "INpJ0APu7E5R",
        "outputId": "7eb32203-dbe2-4a71-9d24-59d97fd25837"
      },
      "execution_count": 10,
      "outputs": [
        {
          "output_type": "stream",
          "name": "stdout",
          "text": [
            "1j\n",
            "2j\n",
            "<class 'complex'>\n",
            "<class 'complex'>\n"
          ]
        }
      ]
    },
    {
      "cell_type": "code",
      "source": [
        "#5 list\n",
        "x = [1,2,3,4]\n",
        "y = list((1,2,3,4))\n",
        "print(x)\n",
        "print(y)\n",
        "print(type(x))\n",
        "print(type(y))\n"
      ],
      "metadata": {
        "colab": {
          "base_uri": "https://localhost:8080/"
        },
        "id": "c4AiyMDP7z83",
        "outputId": "48d51760-c16d-437e-f8ff-17c4ba02922e"
      },
      "execution_count": 11,
      "outputs": [
        {
          "output_type": "stream",
          "name": "stdout",
          "text": [
            "[1, 2, 3, 4]\n",
            "[1, 2, 3, 4]\n",
            "<class 'list'>\n",
            "<class 'list'>\n"
          ]
        }
      ]
    },
    {
      "cell_type": "code",
      "source": [
        "#6 tuple\n",
        "x = (1,2,3,4)\n",
        "y = tuple((1,2,3,4))\n",
        "print(x)\n",
        "print(y)\n",
        "print(type(x))\n",
        "print(type(y))"
      ],
      "metadata": {
        "colab": {
          "base_uri": "https://localhost:8080/"
        },
        "id": "peq36aXR8L7u",
        "outputId": "ee1df4f7-94ee-4f28-e6db-07dd38ef6da5"
      },
      "execution_count": 13,
      "outputs": [
        {
          "output_type": "stream",
          "name": "stdout",
          "text": [
            "(1, 2, 3, 4)\n",
            "(1, 2, 3, 4)\n",
            "<class 'tuple'>\n",
            "<class 'tuple'>\n"
          ]
        }
      ]
    },
    {
      "cell_type": "code",
      "source": [
        "#7 range\n",
        "x = range(6)\n",
        "y = range(7)\n",
        "print(x)\n",
        "print(y)\n",
        "print(type(x))\n",
        "print(type(y))"
      ],
      "metadata": {
        "colab": {
          "base_uri": "https://localhost:8080/"
        },
        "id": "bq8BFDJh8ixk",
        "outputId": "04f401e3-e333-4c05-adf8-dc687809bc25"
      },
      "execution_count": 14,
      "outputs": [
        {
          "output_type": "stream",
          "name": "stdout",
          "text": [
            "range(0, 6)\n",
            "range(0, 7)\n",
            "<class 'range'>\n",
            "<class 'range'>\n"
          ]
        }
      ]
    },
    {
      "cell_type": "code",
      "source": [
        "#8 dictionary\n",
        "x = {\"name\" : \"John\" , \"age\" : 34}\n",
        "y = dict(name = \"John\" , age = 34)\n",
        "print(x)\n",
        "print(y)\n",
        "print(type(x))\n",
        "print(type(y))"
      ],
      "metadata": {
        "colab": {
          "base_uri": "https://localhost:8080/"
        },
        "id": "sYDAHR6d87N3",
        "outputId": "6923b86a-f764-40d8-fed7-800b3d260a8d"
      },
      "execution_count": 16,
      "outputs": [
        {
          "output_type": "stream",
          "name": "stdout",
          "text": [
            "{'name': 'John', 'age': 34}\n",
            "{'name': 'John', 'age': 34}\n",
            "<class 'dict'>\n",
            "<class 'dict'>\n"
          ]
        }
      ]
    },
    {
      "cell_type": "code",
      "source": [
        "#9 Set\n",
        "x = {\"a\" , \"b\" , \"c\"}\n",
        "y = set((\"a\" , \"b\" , \"c\"))\n",
        "print(x)\n",
        "print(y)\n",
        "print(type(x))\n",
        "print(type(y))"
      ],
      "metadata": {
        "colab": {
          "base_uri": "https://localhost:8080/"
        },
        "id": "Hc_2ijXM9gxS",
        "outputId": "b596b279-e558-48c0-f84e-ae998c2e897f"
      },
      "execution_count": 17,
      "outputs": [
        {
          "output_type": "stream",
          "name": "stdout",
          "text": [
            "{'c', 'a', 'b'}\n",
            "{'c', 'a', 'b'}\n",
            "<class 'set'>\n",
            "<class 'set'>\n"
          ]
        }
      ]
    },
    {
      "cell_type": "code",
      "source": [
        "#10 frozen set\n",
        "x = frozenset({\"a\" , \"b\" , \"c\"})\n",
        "y = frozenset((\"a\" , \"b\" , \"c\"))\n",
        "print(x)\n",
        "print(y)\n",
        "print(type(x))\n",
        "print(type(y))"
      ],
      "metadata": {
        "colab": {
          "base_uri": "https://localhost:8080/"
        },
        "id": "HuVsIIEr95YW",
        "outputId": "e3d4b0a4-76fb-4fbf-c208-d2247d1fa3eb"
      },
      "execution_count": 19,
      "outputs": [
        {
          "output_type": "stream",
          "name": "stdout",
          "text": [
            "frozenset({'c', 'a', 'b'})\n",
            "frozenset({'c', 'a', 'b'})\n",
            "<class 'frozenset'>\n",
            "<class 'frozenset'>\n"
          ]
        }
      ]
    },
    {
      "cell_type": "code",
      "source": [
        "#11 boolean\n",
        "x = True\n",
        "y = bool(True)\n",
        "print(x)\n",
        "print(y)\n",
        "print(type(x))\n",
        "print(type(y))"
      ],
      "metadata": {
        "colab": {
          "base_uri": "https://localhost:8080/"
        },
        "id": "0htc-ZD3-fhi",
        "outputId": "98eace8b-1304-4668-fc81-e3bfe7d21d54"
      },
      "execution_count": 20,
      "outputs": [
        {
          "output_type": "stream",
          "name": "stdout",
          "text": [
            "True\n",
            "True\n",
            "<class 'bool'>\n",
            "<class 'bool'>\n"
          ]
        }
      ]
    },
    {
      "cell_type": "markdown",
      "source": [
        "The bytes() method returns an immutable bytes object initialized with the given size and data.\n",
        "\n",
        "bytes() method returns a bytes object which is an immutable (cannot be modified) sequence of integers in the range 0 <=x < 256 .\n",
        "\n",
        "Return a new \"bytes\" object, which is an immutable sequence of small integers in the range 0 <= x < 256, print as ASCII characters when displayed. bytes is an immutable version of bytearray – it has the same non-mutating methods and the same indexing and slicing behavior.\n",
        "\n",
        "\n"
      ],
      "metadata": {
        "id": "1Lqmm0HPAnMB"
      }
    },
    {
      "cell_type": "code",
      "source": [
        "#12 bytes\n",
        "x = b\"hello\"\n",
        "y = bytes(5)\n",
        "print(x)\n",
        "print(y)\n",
        "print(type(x))\n",
        "print(type(y))\n",
        "print(bytes(x))\n"
      ],
      "metadata": {
        "colab": {
          "base_uri": "https://localhost:8080/"
        },
        "id": "Tbz2JqGR-zFq",
        "outputId": "4d4a4e92-d0dd-4e49-a026-6390ad1abbd9"
      },
      "execution_count": 24,
      "outputs": [
        {
          "output_type": "stream",
          "name": "stdout",
          "text": [
            "b'hello'\n",
            "b'\\x00\\x00\\x00\\x00\\x00'\n",
            "<class 'bytes'>\n",
            "<class 'bytes'>\n",
            "b'hello'\n"
          ]
        }
      ]
    },
    {
      "cell_type": "markdown",
      "source": [
        "The bytearray() method returns a bytearray object which is an array of the given bytes.\n",
        "\n",
        "Return a new array of bytes. The bytearray type is a mutable sequence of integers in the range 0 <= x < 256. It has most of the usual methods of mutable sequences, described in Mutable Sequence Types, as well as most methods that the bytes type has, see Bytes and Byte Array Methods."
      ],
      "metadata": {
        "id": "aWcQI4-bApkg"
      }
    },
    {
      "cell_type": "code",
      "source": [
        "#13 bytearray\n",
        "x = bytearray(5)\n",
        "y = bytearray(7)\n",
        "print(x)\n",
        "print(y)\n",
        "print(type(x))\n",
        "print(type(y))"
      ],
      "metadata": {
        "colab": {
          "base_uri": "https://localhost:8080/"
        },
        "id": "HVb8R7om_3Bz",
        "outputId": "ef195792-0a35-4b10-f41e-1a0e0635262f"
      },
      "execution_count": 25,
      "outputs": [
        {
          "output_type": "stream",
          "name": "stdout",
          "text": [
            "bytearray(b'\\x00\\x00\\x00\\x00\\x00')\n",
            "bytearray(b'\\x00\\x00\\x00\\x00\\x00\\x00\\x00')\n",
            "<class 'bytearray'>\n",
            "<class 'bytearray'>\n"
          ]
        }
      ]
    },
    {
      "cell_type": "markdown",
      "source": [
        "The memoryview() function returns a memory view object of the given argument.\n",
        "\n",
        "\n"
      ],
      "metadata": {
        "id": "Ty9jEohxBRCm"
      }
    },
    {
      "cell_type": "code",
      "source": [
        "x = memoryview(bytes(5))\n",
        "y = memoryview(bytes(6))\n",
        "print(x)\n",
        "print(y)\n",
        "print(type(x))\n",
        "print(type(y))"
      ],
      "metadata": {
        "colab": {
          "base_uri": "https://localhost:8080/"
        },
        "id": "wOxuDU8yA5dY",
        "outputId": "7c6e8d25-a9bc-4698-8c29-cecdcf5bfc6c"
      },
      "execution_count": 26,
      "outputs": [
        {
          "output_type": "stream",
          "name": "stdout",
          "text": [
            "<memory at 0x7f6cbab79870>\n",
            "<memory at 0x7f6cbab79d50>\n",
            "<class 'memoryview'>\n",
            "<class 'memoryview'>\n"
          ]
        }
      ]
    }
  ]
}
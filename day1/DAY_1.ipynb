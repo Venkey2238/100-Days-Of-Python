{
  "nbformat": 4,
  "nbformat_minor": 0,
  "metadata": {
    "colab": {
      "name": "DAY**1",
      "provenance": []
    },
    "kernelspec": {
      "name": "python3",
      "display_name": "Python 3"
    },
    "language_info": {
      "name": "python"
    }
  },
  "cells": [
    {
      "cell_type": "markdown",
      "source": [
        "# DAY 1\n",
        "First Program"
      ],
      "metadata": {
        "id": "wJ88QWVVnVxT"
      }
    },
    {
      "cell_type": "code",
      "execution_count": 1,
      "metadata": {
        "colab": {
          "base_uri": "https://localhost:8080/"
        },
        "id": "6mfU6H0xnMh5",
        "outputId": "dbd2b51d-fa0b-4618-bb17-bb4650d8ecbf"
      },
      "outputs": [
        {
          "output_type": "stream",
          "name": "stdout",
          "text": [
            "Hello world\n"
          ]
        }
      ],
      "source": [
        "print(\"Hello world\")"
      ]
    },
    {
      "cell_type": "markdown",
      "source": [
        "##  Variables and Data Structures\n"
      ],
      "metadata": {
        "id": "hOyP9vCgtffp"
      }
    },
    {
      "cell_type": "code",
      "source": [
        "a = 1\n",
        "print(a)\n",
        "print(type(a))\n",
        "b = 1.5\n",
        "print(b)\n",
        "print(type(b))\n",
        "c = \"hello\"\n",
        "print(c)\n",
        "print(type(c))"
      ],
      "metadata": {
        "colab": {
          "base_uri": "https://localhost:8080/"
        },
        "id": "kswfVZ0itqyw",
        "outputId": "ee240bc4-25f8-4174-aa03-fdc83940a795"
      },
      "execution_count": 2,
      "outputs": [
        {
          "output_type": "stream",
          "name": "stdout",
          "text": [
            "1\n",
            "<class 'int'>\n",
            "1.5\n",
            "<class 'float'>\n",
            "hello\n",
            "<class 'str'>\n"
          ]
        }
      ]
    },
    {
      "cell_type": "code",
      "source": [
        "a = [1,2,3]\n",
        "print(a)\n",
        "print(type(a))\n",
        "b = {\n",
        "    1 : \"hello\",\n",
        "     2 : \"world\"\n",
        "}\n",
        "print(b)\n",
        "print(type(b))\n",
        "c  = (1,2,3)\n",
        "print(type(c))\n",
        "print(c)\n",
        "d = {1,2,3,4}\n",
        "print(type(d))\n",
        "print(d)"
      ],
      "metadata": {
        "colab": {
          "base_uri": "https://localhost:8080/"
        },
        "id": "LHQLsmJvuar7",
        "outputId": "9cd114fa-ac09-43c6-df0a-7c198d708bfa"
      },
      "execution_count": 4,
      "outputs": [
        {
          "output_type": "stream",
          "name": "stdout",
          "text": [
            "[1, 2, 3]\n",
            "<class 'list'>\n",
            "{1: 'hello', 2: 'world'}\n",
            "<class 'dict'>\n",
            "<class 'tuple'>\n",
            "(1, 2, 3)\n",
            "<class 'set'>\n",
            "{1, 2, 3, 4}\n"
          ]
        }
      ]
    },
    {
      "cell_type": "markdown",
      "source": [
        "## Functions"
      ],
      "metadata": {
        "id": "X2cwqFwwvO9f"
      }
    },
    {
      "cell_type": "code",
      "source": [
        "def hello():\n",
        "  print(\"hello\")\n",
        "  print(\"hello world\")\n",
        "hello()"
      ],
      "metadata": {
        "colab": {
          "base_uri": "https://localhost:8080/"
        },
        "id": "FlivHnJDvSo_",
        "outputId": "d0d817ce-6338-40b3-d61b-6941e8801894"
      },
      "execution_count": 5,
      "outputs": [
        {
          "output_type": "stream",
          "name": "stdout",
          "text": [
            "hello\n",
            "hello world\n"
          ]
        }
      ]
    },
    {
      "cell_type": "markdown",
      "source": [
        "### Using the main function"
      ],
      "metadata": {
        "id": "pGMTjItwwRCv"
      }
    },
    {
      "cell_type": "code",
      "source": [
        "def Main():\n",
        "  print(\"hello world\")\n",
        "if __name__==\"__main__\":\n",
        "  Main()"
      ],
      "metadata": {
        "colab": {
          "base_uri": "https://localhost:8080/"
        },
        "id": "elmZZS-gwO1U",
        "outputId": "20d49be5-9fd9-4e89-dd29-9831c347670f"
      },
      "execution_count": 6,
      "outputs": [
        {
          "output_type": "stream",
          "name": "stdout",
          "text": [
            "hello world\n"
          ]
        }
      ]
    },
    {
      "cell_type": "markdown",
      "source": [
        "## Iteration (Looping)"
      ],
      "metadata": {
        "id": "LygSHWM0w49W"
      }
    },
    {
      "cell_type": "code",
      "source": [
        "# For LOOP\n",
        "\n",
        "for i in range(1,5):\n",
        "  print(i)\n",
        "print(\"-----------\")\n",
        "for j in range(1,5,2):\n",
        "  print(j)\n",
        "print(\"-----------\")\n",
        "for k in range(5):\n",
        "  print(k)"
      ],
      "metadata": {
        "colab": {
          "base_uri": "https://localhost:8080/"
        },
        "id": "-B6spW_wxAs8",
        "outputId": "7cdc55ce-b0c5-42b2-a2db-293a55db095c"
      },
      "execution_count": 14,
      "outputs": [
        {
          "output_type": "stream",
          "name": "stdout",
          "text": [
            "1\n",
            "2\n",
            "3\n",
            "4\n",
            "-----------\n",
            "1\n",
            "3\n",
            "-----------\n",
            "0\n",
            "1\n",
            "2\n",
            "3\n",
            "4\n"
          ]
        }
      ]
    },
    {
      "cell_type": "markdown",
      "source": [
        "## Modules"
      ],
      "metadata": {
        "id": "A0lAyHQUylJs"
      }
    },
    {
      "cell_type": "code",
      "source": [
        "import math\n",
        "def Main():\n",
        "  num = -85.9\n",
        "  num = math.fabs(num)\n",
        "  print(num)\n",
        "if __name__ == \"__main__\":\n",
        "  Main()"
      ],
      "metadata": {
        "colab": {
          "base_uri": "https://localhost:8080/"
        },
        "id": "RAbd62TByoMQ",
        "outputId": "98180788-b5d2-4285-ca69-dd003e4eaa64"
      },
      "execution_count": 19,
      "outputs": [
        {
          "output_type": "stream",
          "name": "stdout",
          "text": [
            "85.9\n"
          ]
        }
      ]
    },
    {
      "cell_type": "markdown",
      "source": [
        "## Input and Output"
      ],
      "metadata": {
        "id": "RLFjFMgG0Ahi"
      }
    },
    {
      "cell_type": "code",
      "source": [
        "name = input(\"enter your name :\")\n",
        "print(\"hello\",name)"
      ],
      "metadata": {
        "colab": {
          "base_uri": "https://localhost:8080/"
        },
        "id": "elPATlsE0Eaw",
        "outputId": "f2f4759c-b17e-4cd3-cb60-579ff9f3a704"
      },
      "execution_count": 20,
      "outputs": [
        {
          "output_type": "stream",
          "name": "stdout",
          "text": [
            "enter your name :raj\n",
            "hello raj\n"
          ]
        }
      ]
    },
    {
      "cell_type": "code",
      "source": [
        "num1 = int(input(\"enter first number\"))\n",
        "num2 = int(input(\"enter the second number\"))\n",
        "print(num1+num2)"
      ],
      "metadata": {
        "colab": {
          "base_uri": "https://localhost:8080/"
        },
        "id": "qwKf_Qzo0WmG",
        "outputId": "f09805b4-ff14-4931-d36c-2f06f1056de0"
      },
      "execution_count": 21,
      "outputs": [
        {
          "output_type": "stream",
          "name": "stdout",
          "text": [
            "enter first number12\n",
            "enter the second number13\n",
            "25\n"
          ]
        }
      ]
    },
    {
      "cell_type": "markdown",
      "source": [
        "##Selection Statement"
      ],
      "metadata": {
        "id": "IwB7vC6h0oZO"
      }
    },
    {
      "cell_type": "code",
      "source": [
        "num = 20\n",
        "if (num > 10):\n",
        "  print(\"greater\")\n",
        "elif(num < 10):\n",
        "  print(\"smaller\")\n",
        "else:\n",
        "  print(\"none\")\n"
      ],
      "metadata": {
        "colab": {
          "base_uri": "https://localhost:8080/"
        },
        "id": "Y8H5SuFe0z5e",
        "outputId": "5eba3736-0851-40e2-d8f5-49e8231426f5"
      },
      "execution_count": 23,
      "outputs": [
        {
          "output_type": "stream",
          "name": "stdout",
          "text": [
            "greater\n"
          ]
        }
      ]
    },
    {
      "cell_type": "markdown",
      "source": [
        "## Iteration and Looping"
      ],
      "metadata": {
        "id": "RF-TQZp81TEx"
      }
    },
    {
      "cell_type": "code",
      "source": [
        "n = 0\n",
        "while(n<5):\n",
        "  print(n)\n",
        "  n = n+1"
      ],
      "metadata": {
        "colab": {
          "base_uri": "https://localhost:8080/"
        },
        "id": "qgb-sUDP1W0n",
        "outputId": "dd658363-19f1-49c0-d3dd-ad86f49c12dd"
      },
      "execution_count": 25,
      "outputs": [
        {
          "output_type": "stream",
          "name": "stdout",
          "text": [
            "0\n",
            "1\n",
            "2\n",
            "3\n",
            "4\n"
          ]
        }
      ]
    }
  ]
}
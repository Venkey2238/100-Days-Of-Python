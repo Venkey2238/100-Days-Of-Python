{
  "nbformat": 4,
  "nbformat_minor": 0,
  "metadata": {
    "colab": {
      "name": "DAY_11.ipynb",
      "provenance": []
    },
    "kernelspec": {
      "name": "python3",
      "display_name": "Python 3"
    },
    "language_info": {
      "name": "python"
    }
  },
  "cells": [
    {
      "cell_type": "markdown",
      "source": [
        "Strings in python\n",
        "\n",
        "*   String can be created using the single quote,double quote and triple quote \n",
        "\n",
        "\n"
      ],
      "metadata": {
        "id": "Y-iqboBv1X_h"
      }
    },
    {
      "cell_type": "code",
      "execution_count": 1,
      "metadata": {
        "colab": {
          "base_uri": "https://localhost:8080/"
        },
        "id": "MCTkmgeT1TSD",
        "outputId": "5305f3a3-df89-4615-ca99-e57ddf43aa1b"
      },
      "outputs": [
        {
          "output_type": "stream",
          "name": "stdout",
          "text": [
            "hello world\n",
            "hello world\n",
            "hello world\n"
          ]
        }
      ],
      "source": [
        "string1 = 'hello world'\n",
        "string2 = \"hello world\"\n",
        "string3 = '''hello world'''\n",
        "print(string1)\n",
        "print(string2)\n",
        "print(string3)"
      ]
    },
    {
      "cell_type": "markdown",
      "source": [
        "Accessing the elements of the String\n",
        "*  this can be done using the indexing\n",
        "*  the +ve indexing can be from 1 to n\n",
        "*  and -ve indexing can be from -n to -1\n"
      ],
      "metadata": {
        "id": "9Yg2gimd3xPm"
      }
    },
    {
      "cell_type": "code",
      "source": [
        "string1 = \"hello\"\n",
        "print(string1)\n",
        "print(string1[1])\n",
        "print(string1[-4])"
      ],
      "metadata": {
        "colab": {
          "base_uri": "https://localhost:8080/"
        },
        "id": "1GJfruRK4LVV",
        "outputId": "57139a84-4dbc-4e28-d82e-ddf60dd9264b"
      },
      "execution_count": 2,
      "outputs": [
        {
          "output_type": "stream",
          "name": "stdout",
          "text": [
            "hello\n",
            "e\n",
            "e\n"
          ]
        }
      ]
    },
    {
      "cell_type": "markdown",
      "source": [
        "Reversing a given string\n",
        "this can be done by  [::-1]"
      ],
      "metadata": {
        "id": "vFlh8jYF45DY"
      }
    },
    {
      "cell_type": "code",
      "source": [
        "string1 = \"hello\"\n",
        "print(string1)\n",
        "print(string1[::-1])"
      ],
      "metadata": {
        "colab": {
          "base_uri": "https://localhost:8080/"
        },
        "id": "87JZBcEJ5EnM",
        "outputId": "d45a53ab-bdc7-441f-e92b-088c18b41651"
      },
      "execution_count": 3,
      "outputs": [
        {
          "output_type": "stream",
          "name": "stdout",
          "text": [
            "hello\n",
            "olleh\n"
          ]
        }
      ]
    },
    {
      "cell_type": "markdown",
      "source": [
        "Reverse can also be done using the join and reversed function"
      ],
      "metadata": {
        "id": "5Qgl1EKU5YHr"
      }
    },
    {
      "cell_type": "code",
      "source": [
        "string1 = \"hello\"\n",
        "print(string1)\n",
        "string1 = \"\".join(reversed(string1))\n",
        "print(string1)"
      ],
      "metadata": {
        "id": "oNj8nBQP5WIG"
      },
      "execution_count": null,
      "outputs": []
    },
    {
      "cell_type": "markdown",
      "source": [
        "String slicing this can be done using the indexing\n",
        "\n",
        "*   That can be using the positive indexing or negative indexing\n"
      ],
      "metadata": {
        "id": "GV_Z1_G76Vk2"
      }
    },
    {
      "cell_type": "code",
      "source": [
        "string1 = \"hello\"\n",
        "print(string1)\n",
        "print(string1[0:2])\n",
        "print(string1[1:3])\n",
        "print(string1[-5:-3])\n",
        "print(string1[-4:-2])"
      ],
      "metadata": {
        "colab": {
          "base_uri": "https://localhost:8080/"
        },
        "id": "DN66zEwb6n76",
        "outputId": "e5ef84ea-9eb0-4c0b-a797-94582201a766"
      },
      "execution_count": 4,
      "outputs": [
        {
          "output_type": "stream",
          "name": "stdout",
          "text": [
            "hello\n",
            "he\n",
            "el\n",
            "he\n",
            "el\n"
          ]
        }
      ]
    },
    {
      "cell_type": "markdown",
      "source": [
        "Deletion and updation cannot be done using the indexing in the python this operations can only be done using the built in function\n",
        "but\n",
        "*  deletion can be done using the del keyword\n",
        "*  and updation can only be done by reassingning the string variable with new variable"
      ],
      "metadata": {
        "id": "o9Ax9gQt71PY"
      }
    },
    {
      "cell_type": "code",
      "source": [
        "string1 = \"hello\"\n",
        "print(string1)\n",
        "string1 = \"world\"\n",
        "print(string1)\n",
        "del string1\n",
        "print(string1)"
      ],
      "metadata": {
        "colab": {
          "base_uri": "https://localhost:8080/",
          "height": 235
        },
        "id": "Sv34fo6M8x1G",
        "outputId": "db3ee02f-65b6-4817-e186-588b92db3c0f"
      },
      "execution_count": 6,
      "outputs": [
        {
          "output_type": "stream",
          "name": "stdout",
          "text": [
            "hello\n",
            "world\n"
          ]
        },
        {
          "output_type": "error",
          "ename": "NameError",
          "evalue": "ignored",
          "traceback": [
            "\u001b[0;31m---------------------------------------------------------------------------\u001b[0m",
            "\u001b[0;31mNameError\u001b[0m                                 Traceback (most recent call last)",
            "\u001b[0;32m<ipython-input-6-9d842f05ef47>\u001b[0m in \u001b[0;36m<module>\u001b[0;34m()\u001b[0m\n\u001b[1;32m      4\u001b[0m \u001b[0mprint\u001b[0m\u001b[0;34m(\u001b[0m\u001b[0mstring1\u001b[0m\u001b[0;34m)\u001b[0m\u001b[0;34m\u001b[0m\u001b[0;34m\u001b[0m\u001b[0m\n\u001b[1;32m      5\u001b[0m \u001b[0;32mdel\u001b[0m \u001b[0mstring1\u001b[0m\u001b[0;34m\u001b[0m\u001b[0;34m\u001b[0m\u001b[0m\n\u001b[0;32m----> 6\u001b[0;31m \u001b[0mprint\u001b[0m\u001b[0;34m(\u001b[0m\u001b[0mstring1\u001b[0m\u001b[0;34m)\u001b[0m\u001b[0;34m\u001b[0m\u001b[0;34m\u001b[0m\u001b[0m\n\u001b[0m",
            "\u001b[0;31mNameError\u001b[0m: name 'string1' is not defined"
          ]
        }
      ]
    },
    {
      "cell_type": "markdown",
      "source": [
        "Escape Sequencing in python"
      ],
      "metadata": {
        "id": "nHDc_F2b9K3l"
      }
    },
    {
      "cell_type": "code",
      "source": [
        "string1 = '''hello'''\n",
        "print(string1)\n",
        "#so for printing a string which has single quotes in it is not posible \n",
        "#so we using the single quotes for whole sentence then if we find another single quote in the string\n",
        "#then we will keep the \"\\\" before it \n",
        "#for example : I'am ==> I\\'am\n",
        "#same for the double quote\n",
        "string1 = \"I'am a \\\"geek\\\"\"\n",
        "print(string1)\n",
        "string1 = 'I\\'am a \"geek\"'\n",
        "print(string1)\n",
        "#for the back slashes if you have them the you use another slash before it\n",
        "#C:\\python\\geeks\\ ==> C:\\\\python\\\\geeks\\\\\n",
        "string1 = \"C:\\\\python\\\\geeks\\\\\"\n",
        "print(string1)\n",
        "string1 = \"hi\\tman\"\n",
        "print(string1)\n",
        "string1 = \"hi\\nman\"\n",
        "print(string1)"
      ],
      "metadata": {
        "colab": {
          "base_uri": "https://localhost:8080/"
        },
        "id": "5QIXTlTh9-BB",
        "outputId": "d9cef459-11a9-44bb-bcfa-4361560fde9f"
      },
      "execution_count": 7,
      "outputs": [
        {
          "output_type": "stream",
          "name": "stdout",
          "text": [
            "hello\n",
            "I'am a \"geek\"\n",
            "I'am a \"geek\"\n",
            "C:\\python\\geeks\\\n",
            "hi\tman\n",
            "hi\n",
            "man\n"
          ]
        }
      ]
    },
    {
      "cell_type": "markdown",
      "source": [
        "The for the ocatal forms like \\x47\\x65 for this it will convert the value\n",
        "*  to avoid this use the 'r' or 'R' like r'\\x47\\x65'"
      ],
      "metadata": {
        "id": "E0c0HYENAtIR"
      }
    },
    {
      "cell_type": "code",
      "source": [
        "#Printing hello in octal\n",
        "String1 = \"\\110\\145\\154\\154\\157\"\n",
        "print(\"\\nPrinting in Octal with the use of Escape Sequences: \")\n",
        "print(String1)\n",
        " \n",
        "# Using raw String to\n",
        "# ignore Escape Sequences\n",
        "String1 = r\"This is \\110\\145\\154\\154\\157\"\n",
        "print(\"\\nPrinting Raw String in Octal Format: \")\n",
        "print(String1)\n",
        " \n",
        "# Printing Geeks in HEX\n",
        "String1 = \"This is \\x47\\x65\\x65\\x6b\\x73 in \\x48\\x45\\x58\"\n",
        "print(\"\\nPrinting in HEX with the use of Escape Sequences: \")\n",
        "print(String1)\n",
        " \n",
        "# Using raw String to\n",
        "# ignore Escape Sequences\n",
        "String1 = r\"This is \\x47\\x65\\x65\\x6b\\x73 in \\x48\\x45\\x58\"\n",
        "print(\"\\nPrinting Raw String in HEX Format: \")\n",
        "print(String1)"
      ],
      "metadata": {
        "colab": {
          "base_uri": "https://localhost:8080/"
        },
        "id": "U14zMkimBikw",
        "outputId": "211d2d50-d84e-4547-df6e-2230e28c2cce"
      },
      "execution_count": 8,
      "outputs": [
        {
          "output_type": "stream",
          "name": "stdout",
          "text": [
            "\n",
            "Printing in Octal with the use of Escape Sequences: \n",
            "Hello\n",
            "\n",
            "Printing Raw String in Octal Format: \n",
            "This is \\110\\145\\154\\154\\157\n",
            "\n",
            "Printing in HEX with the use of Escape Sequences: \n",
            "This is Geeks in HEX\n",
            "\n",
            "Printing Raw String in HEX Format: \n",
            "This is \\x47\\x65\\x65\\x6b\\x73 in \\x48\\x45\\x58\n"
          ]
        }
      ]
    },
    {
      "cell_type": "markdown",
      "source": [
        "Formatting of string\n",
        "*  this can be done using the format() function"
      ],
      "metadata": {
        "id": "nVbIz4EkBv0F"
      }
    },
    {
      "cell_type": "code",
      "source": [
        "string1 = \"hello {}\".format('world')\n",
        "print(string1)\n",
        "string1 = \"{0} {1}\".format('hello','world')\n",
        "print(string1)\n",
        "string1 = \"{a} {b}\".format(a='hello',b='world')\n",
        "print(string1)"
      ],
      "metadata": {
        "colab": {
          "base_uri": "https://localhost:8080/"
        },
        "id": "_xLRg83pCBRn",
        "outputId": "d5856d3e-a0c8-43d7-dd38-cd2d1e0eb303"
      },
      "execution_count": 11,
      "outputs": [
        {
          "output_type": "stream",
          "name": "stdout",
          "text": [
            "hello world\n",
            "hello world\n",
            "hello world\n"
          ]
        }
      ]
    },
    {
      "cell_type": "markdown",
      "source": [
        "The format can also do the conversion like into binary exponential and also float as shown below"
      ],
      "metadata": {
        "id": "QLtyIKjnDFrH"
      }
    },
    {
      "cell_type": "code",
      "source": [
        "string1 = \"{0:b}\".format(16)\n",
        "print(string1)\n",
        "string1 = \"{0:e}\".format(16.65)\n",
        "print(string1)\n",
        "string1 = \"{0:.2f}\".format(1/6)\n",
        "print(string1)"
      ],
      "metadata": {
        "colab": {
          "base_uri": "https://localhost:8080/"
        },
        "id": "JLoU33-_DWXM",
        "outputId": "0937e45d-ad71-4a0a-bbac-5ac46ce8966d"
      },
      "execution_count": 12,
      "outputs": [
        {
          "output_type": "stream",
          "name": "stdout",
          "text": [
            "10000\n",
            "1.665000e+01\n",
            "0.17\n"
          ]
        }
      ]
    },
    {
      "cell_type": "markdown",
      "source": [
        "Format can also do the alignment"
      ],
      "metadata": {
        "id": "sdER1kxTEM6m"
      }
    },
    {
      "cell_type": "code",
      "source": [
        "# String alignment\n",
        "String1 = \"|{:<5}|{:^10}|{:>10}|\".format('Geeks', 'for', 'Geeks')\n",
        "print(\"\\nLeft, center and right alignment with Formatting: \")\n",
        "print(String1)\n",
        " \n",
        "# To demonstrate aligning of spaces\n",
        "String1 = \"\\n{0} was founded in {1}!\".format(\"GeeksforGeeks\", 2009)\n",
        "print(String1)\n",
        "String1 = \"\\n{0:^5} was founded in {1:<5}!\".format(\"GeeksforGeeks\", 2009)\n",
        "print(String1)"
      ],
      "metadata": {
        "colab": {
          "base_uri": "https://localhost:8080/"
        },
        "id": "ONiMiGnqEQFZ",
        "outputId": "0227955f-5a94-4f5f-e06e-b4def35784cd"
      },
      "execution_count": 16,
      "outputs": [
        {
          "output_type": "stream",
          "name": "stdout",
          "text": [
            "\n",
            "Left, center and right alignment with Formatting: \n",
            "|Geeks|   for    |     Geeks|\n",
            "\n",
            "GeeksforGeeks was founded in 2009!\n",
            "\n",
            "GeeksforGeeks was founded in 2009 !\n"
          ]
        }
      ]
    },
    {
      "cell_type": "code",
      "source": [
        ""
      ],
      "metadata": {
        "id": "EA-6-FZ1E5M3"
      },
      "execution_count": 17,
      "outputs": []
    }
  ]
}
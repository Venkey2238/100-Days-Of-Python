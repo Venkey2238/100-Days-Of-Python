{
  "nbformat": 4,
  "nbformat_minor": 0,
  "metadata": {
    "colab": {
      "name": "Day3.ipynb",
      "provenance": [],
      "collapsed_sections": []
    },
    "kernelspec": {
      "name": "python3",
      "display_name": "Python 3"
    },
    "language_info": {
      "name": "python"
    }
  },
  "cells": [
    {
      "cell_type": "markdown",
      "source": [
        "Taking the input from the user there are two ways\n",
        "\n",
        "1. input(prompt)\n",
        "2. raw_input(prompt)"
      ],
      "metadata": {
        "id": "CrZuiA8r2xqM"
      }
    },
    {
      "cell_type": "code",
      "source": [
        "x = input(\"enter a number\")"
      ],
      "metadata": {
        "colab": {
          "base_uri": "https://localhost:8080/"
        },
        "id": "LXWgCLKO3J6_",
        "outputId": "320c5c75-0e5d-450b-f56a-2d67c94b3964"
      },
      "execution_count": 7,
      "outputs": [
        {
          "name": "stdout",
          "output_type": "stream",
          "text": [
            "enter a number12\n"
          ]
        }
      ]
    },
    {
      "cell_type": "markdown",
      "source": [
        "But the raw_input will not work because the another name of input is raw_input in python 3\n"
      ],
      "metadata": {
        "id": "MyiqTqq94OAv"
      }
    },
    {
      "cell_type": "markdown",
      "source": [
        "Taking the input from the console is also the same there also the input method always works\n"
      ],
      "metadata": {
        "id": "LBnc9yNE4w8v"
      }
    },
    {
      "cell_type": "code",
      "source": [
        "num1 = int(input(\"enter a integer :\"))\n",
        "num2 = float(input(\"enter a floating point number : \"))\n",
        "num3 = input(\"enter a string : \")"
      ],
      "metadata": {
        "colab": {
          "base_uri": "https://localhost:8080/"
        },
        "id": "jNXI8lBT4cbw",
        "outputId": "525a5bc7-7c56-43f6-9f6f-4efe0dc24299"
      },
      "execution_count": 11,
      "outputs": [
        {
          "name": "stdout",
          "output_type": "stream",
          "text": [
            "enter a integer :12\n",
            "enter a floating point number : 12.3\n",
            "enter a string : hello\n"
          ]
        }
      ]
    },
    {
      "cell_type": "markdown",
      "source": [
        "# Taking the mutiple values as a input in a single ine of code"
      ],
      "metadata": {
        "id": "6b8FNzT05niq"
      }
    },
    {
      "cell_type": "markdown",
      "source": [
        "first method is to use the raw input 2 times\n"
      ],
      "metadata": {
        "id": "qt_JjEqo6Bvm"
      }
    },
    {
      "cell_type": "code",
      "source": [
        "x , y = input() , input()"
      ],
      "metadata": {
        "colab": {
          "base_uri": "https://localhost:8080/"
        },
        "id": "uS2iMYc554Ou",
        "outputId": "47ab8688-b333-4575-cbda-da6daeed34d7"
      },
      "execution_count": 12,
      "outputs": [
        {
          "name": "stdout",
          "output_type": "stream",
          "text": [
            "1\n",
            "2\n"
          ]
        }
      ]
    },
    {
      "cell_type": "markdown",
      "source": [
        "second method is to use split() method\n"
      ],
      "metadata": {
        "id": "ntG2YbT16SER"
      }
    },
    {
      "cell_type": "code",
      "source": [
        "x , y = input().split()"
      ],
      "metadata": {
        "colab": {
          "base_uri": "https://localhost:8080/"
        },
        "id": "CJjRiLVt6RLm",
        "outputId": "c958fa1f-8483-4f8e-8816-e57ec75ae0c0"
      },
      "execution_count": 15,
      "outputs": [
        {
          "name": "stdout",
          "output_type": "stream",
          "text": [
            "1 2\n"
          ]
        }
      ]
    },
    {
      "cell_type": "markdown",
      "source": [
        "Third method is to use the list comperhension\n"
      ],
      "metadata": {
        "id": "pyfIT6147R7q"
      }
    },
    {
      "cell_type": "code",
      "source": [
        "x , y = [int(x) for x in input().split()]"
      ],
      "metadata": {
        "colab": {
          "base_uri": "https://localhost:8080/"
        },
        "id": "19B9njJd7X5s",
        "outputId": "7de070c8-8a04-466e-9c9f-07a3d60ac280"
      },
      "execution_count": 16,
      "outputs": [
        {
          "name": "stdout",
          "output_type": "stream",
          "text": [
            "1 2\n"
          ]
        }
      ]
    },
    {
      "cell_type": "markdown",
      "source": [
        "Note : while entering input please be careful that give a space after each input dont directky press enter"
      ],
      "metadata": {
        "id": "SttLCa1x7t0C"
      }
    },
    {
      "cell_type": "markdown",
      "source": [
        "END parameter \n",
        "Print statement always gives a newline\n",
        "but to avoide that we use the end parameter i will show you the difference"
      ],
      "metadata": {
        "id": "g9-wErhK8K5T"
      }
    },
    {
      "cell_type": "code",
      "source": [
        "print(\"hello\")\n",
        "print(\"world\")"
      ],
      "metadata": {
        "colab": {
          "base_uri": "https://localhost:8080/"
        },
        "id": "h2GL-FbE8AUZ",
        "outputId": "745c5b4c-e00d-4e6a-d60c-6eee014fc802"
      },
      "execution_count": 17,
      "outputs": [
        {
          "output_type": "stream",
          "name": "stdout",
          "text": [
            "hello\n",
            "world\n"
          ]
        }
      ]
    },
    {
      "cell_type": "code",
      "source": [
        "print(\"hello\" , end = \" \")\n",
        "print(\"world\")"
      ],
      "metadata": {
        "colab": {
          "base_uri": "https://localhost:8080/"
        },
        "id": "SSzUqb4FBKuq",
        "outputId": "86f3c419-ccc7-4019-9f70-5507f327a3d8"
      },
      "execution_count": 18,
      "outputs": [
        {
          "output_type": "stream",
          "name": "stdout",
          "text": [
            "hello world\n"
          ]
        }
      ]
    },
    {
      "cell_type": "markdown",
      "source": [
        "# Python Input Methods for Competitive Programming"
      ],
      "metadata": {
        "id": "NYXteBXvCBff"
      }
    },
    {
      "cell_type": "markdown",
      "source": [
        "For this we use the built in libraries in python to increase the speed of python because comapred to c c++ and java it is slower\n",
        "\n",
        "the methods like \n",
        " 1. sys.stdin\n",
        " 2. stdout.write"
      ],
      "metadata": {
        "id": "-nujGfyfCIFW"
      }
    },
    {
      "cell_type": "code",
      "source": [
        "import sys\n",
        "\n",
        "price = sys.stdin.readline()\n",
        "\n",
        "print(price)\n",
        "\n",
        "\t"
      ],
      "metadata": {
        "colab": {
          "base_uri": "https://localhost:8080/"
        },
        "id": "TulYLvnMBXGS",
        "outputId": "03f74ef7-e33a-43f4-cd27-2370df1a42da"
      },
      "execution_count": 37,
      "outputs": [
        {
          "output_type": "stream",
          "name": "stdout",
          "text": [
            "\n"
          ]
        }
      ]
    },
    {
      "cell_type": "markdown",
      "source": [
        "There are some vulnerabilities in the input method they are \n",
        "\n",
        "1. variable name as input parameter\n",
        "2. function name as input parameter"
      ],
      "metadata": {
        "id": "YCLm4PKmLUym"
      }
    },
    {
      "cell_type": "markdown",
      "source": [
        "# String literal\n",
        "\n",
        "1. \\n \n",
        "2. \"\""
      ],
      "metadata": {
        "id": "Nu4iPPlCMELf"
      }
    },
    {
      "cell_type": "code",
      "source": [
        "print(\"hello \\n world\")"
      ],
      "metadata": {
        "colab": {
          "base_uri": "https://localhost:8080/"
        },
        "id": "Be-OullnEaaI",
        "outputId": "ec26c2be-b4ca-4415-9d4e-f635cfd832df"
      },
      "execution_count": 38,
      "outputs": [
        {
          "output_type": "stream",
          "name": "stdout",
          "text": [
            "hello \n",
            " world\n"
          ]
        }
      ]
    },
    {
      "cell_type": "code",
      "source": [
        "print(\"hello\")\n",
        "print(\"\")\n",
        "print(\"world\")"
      ],
      "metadata": {
        "colab": {
          "base_uri": "https://localhost:8080/"
        },
        "id": "wYdIxdK_IMGz",
        "outputId": "5146a490-bf0b-46f4-be1b-b5f4f0b8ae20"
      },
      "execution_count": 39,
      "outputs": [
        {
          "output_type": "stream",
          "name": "stdout",
          "text": [
            "hello\n",
            "\n",
            "world\n"
          ]
        }
      ]
    },
    {
      "cell_type": "markdown",
      "source": [
        "This is the flush\n",
        "flush parameter is used to flush (clear) the internal buffer/stream (or we can say it is used to flush the output stream), it has two values \"False\" and \"True\".\n",
        "\n",
        "\"False\" is the default value i.e. if we don't use the flush parameter – then flushing of the stream will be False. If we specify \"True\" – stream flushes."
      ],
      "metadata": {
        "id": "vqpKaYlsNY0I"
      }
    },
    {
      "cell_type": "code",
      "source": [
        "import time\n",
        " \n",
        "count_seconds = 3\n",
        "for i in reversed(range(count_seconds + 1)):\n",
        "    if i > 0:\n",
        "        print(i, end='>>>', flush = True)\n",
        "        time.sleep(1)\n",
        "    else:\n",
        "        print('Stop')"
      ],
      "metadata": {
        "colab": {
          "base_uri": "https://localhost:8080/"
        },
        "id": "qPCp_XOgMkvf",
        "outputId": "c1efb1cc-76b2-4cbe-f591-7009c4492523"
      },
      "execution_count": 42,
      "outputs": [
        {
          "output_type": "stream",
          "name": "stdout",
          "text": [
            "3>>>2>>>1>>>Stop\n"
          ]
        }
      ]
    },
    {
      "cell_type": "code",
      "source": [
        "from time import sleep\n",
        "\n",
        "# output is flushed here\n",
        "print(\"Hello, world!\", end='', flush= True)\n",
        "sleep(5)\n",
        "print(\"Bye!!!\")"
      ],
      "metadata": {
        "colab": {
          "base_uri": "https://localhost:8080/"
        },
        "id": "cyqOKNKkOGmA",
        "outputId": "ca6a02ed-09fc-4e84-e02c-de6d128981af"
      },
      "execution_count": 43,
      "outputs": [
        {
          "output_type": "stream",
          "name": "stdout",
          "text": [
            "Hello, world!Bye!!!\n"
          ]
        }
      ]
    },
    {
      "cell_type": "markdown",
      "source": [
        "# Separator in python\n",
        "\" , \""
      ],
      "metadata": {
        "id": "nbA8YVdWOou4"
      }
    },
    {
      "cell_type": "code",
      "source": [
        "x = \"for\"\n",
        "print(\" i am waiting \",x,\" for you!!!\")"
      ],
      "metadata": {
        "colab": {
          "base_uri": "https://localhost:8080/"
        },
        "id": "mk9xJqNTOgs1",
        "outputId": "ac62335e-a8d6-415b-bbc4-570be009a594"
      },
      "execution_count": 44,
      "outputs": [
        {
          "output_type": "stream",
          "name": "stdout",
          "text": [
            " i am waiting  for  for you!!!\n"
          ]
        }
      ]
    },
    {
      "cell_type": "markdown",
      "source": [
        "# Formating the output in python\n",
        "\n",
        "we can do it by % and {}\n",
        "\n",
        "%d for int\n",
        "\n",
        "%s for string\n",
        "\n",
        "%f or %g for float"
      ],
      "metadata": {
        "id": "p9DLH8i8PAuO"
      }
    },
    {
      "cell_type": "code",
      "source": [
        "name  = \"john\"\n",
        "age = 23\n",
        "sal = 25000.0\n",
        "\n",
        "print(\"Name : %s \\nAge : %d\\nSalary : %.1f\"%(name,age,sal))\n",
        "print(\"\")\n",
        "print(\"Name :{}\\nAge : {}\\nsalary: {}\".format(name,age,sal))\n",
        "print(\"\")\n",
        "print(\"Name :{0}\\nAge : {1}\\nsalary: {2}\".format(name,age,sal))\n"
      ],
      "metadata": {
        "colab": {
          "base_uri": "https://localhost:8080/"
        },
        "id": "L50d-9qiQMvw",
        "outputId": "3f488e2b-7523-4d2f-dce7-7090b28d281f"
      },
      "execution_count": 53,
      "outputs": [
        {
          "output_type": "stream",
          "name": "stdout",
          "text": [
            "Name : john \n",
            "Age : 23\n",
            "Salary : 25000.0\n",
            "\n",
            "Name :john\n",
            "Age : 23\n",
            "salary: 25000.0\n",
            "\n",
            "Name :john\n",
            "Age : 23\n",
            "salary: 25000.0\n"
          ]
        }
      ]
    },
    {
      "cell_type": "code",
      "source": [
        "       "
      ],
      "metadata": {
        "id": "pY_eF36rTLnC"
      },
      "execution_count": null,
      "outputs": []
    }
  ]
}